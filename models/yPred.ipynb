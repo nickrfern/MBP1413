{
 "cells": [
  {
   "cell_type": "code",
   "execution_count": 1,
   "id": "77ad0426",
   "metadata": {},
   "outputs": [
    {
     "name": "stderr",
     "output_type": "stream",
     "text": [
      "2022-03-25 22:48:09.579464: W tensorflow/stream_executor/platform/default/dso_loader.cc:64] Could not load dynamic library 'libcudart.so.11.0'; dlerror: libcudart.so.11.0: cannot open shared object file: No such file or directory; LD_LIBRARY_PATH: /hpf/tools/centos7/tcltk/8.6.11/lib:/hpf/tools/centos6/gdal/2.4.0/lib/:/hpf/tools/centos6/netcdf/4.3.2/lib/:/hpf/tools/centos6/libtiff/4.0.9/lib/:/hpf/tools/centos7/sqlite/3.35.3/lib:/hpf/tools/centos7/proj/7.2.0/lib:/hpf/tools/centos6/geos/3.4.2/lib:/hpf/tools/centos6/libpng/1.2.59/lib/:/hpf/tools/centos7/udunits2/2.2.28/lib:/hpf/tools/centos7/hdf5/1.10.5/lib:/hpf/tools/centos7/R/4.0.4_pbalin/lib64:/hpf/tools/centos7/pcre/8.44.utf8/lib:/hpf/tools/centos7/libxml2/2.9.1/lib64:/hpf/tools/centos7/curl/7.74.0/lib:/hpf/tools/centos7/readline/8.1/lib:/hpf/tools/centos6/gcc/7.2.0/lib64/:/hpf/tools/centos6/gcc/7.2.0/lib/:/hpf/tools/centos7/python/3.9.2_pbalin/lib:/hpf/largeprojects/tabori/shared/software/lib:/usr/lib64/\n",
      "2022-03-25 22:48:09.579496: I tensorflow/stream_executor/cuda/cudart_stub.cc:29] Ignore above cudart dlerror if you do not have a GPU set up on your machine.\n"
     ]
    }
   ],
   "source": [
    "import umap\n",
    "import pandas as pd\n",
    "import pickle\n",
    "import numpy as np"
   ]
  },
  {
   "cell_type": "code",
   "execution_count": 2,
   "id": "c9f96c98",
   "metadata": {},
   "outputs": [],
   "source": [
    "X_test = pd.read_csv('/hpf/largeprojects/tabori/users/yuan/mbp1413/data/train_test_val/test_cv/pbmc68k_norm_x_test.csv')\n",
    "X_test = X_test.set_index('Unnamed: 0').T\n",
    "y_test = pd.read_csv('/hpf/largeprojects/tabori/users/yuan/mbp1413/data/train_test_val/test_cv/raw_data/pbmc68k_y_test_cv.csv')\n",
    "y_test = y_test.x.to_list()"
   ]
  },
  {
   "cell_type": "code",
   "execution_count": null,
   "id": "2645a6e7",
   "metadata": {},
   "outputs": [],
   "source": []
  }
 ],
 "metadata": {
  "kernelspec": {
   "display_name": "tf",
   "language": "python",
   "name": "tf"
  },
  "language_info": {
   "codemirror_mode": {
    "name": "ipython",
    "version": 3
   },
   "file_extension": ".py",
   "mimetype": "text/x-python",
   "name": "python",
   "nbconvert_exporter": "python",
   "pygments_lexer": "ipython3",
   "version": "3.10.0"
  }
 },
 "nbformat": 4,
 "nbformat_minor": 5
}
